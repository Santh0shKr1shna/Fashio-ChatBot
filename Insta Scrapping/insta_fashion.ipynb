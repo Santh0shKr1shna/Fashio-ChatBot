{
 "cells": [
  {
   "cell_type": "code",
   "execution_count": 1,
   "metadata": {},
   "outputs": [],
   "source": [
    "import instaloader\n",
    "\n",
    "# Initialize Instaloader object\n",
    "L = instaloader.Instaloader()\n",
    "L.save_metadata=False\n",
    "L.download_video_thumbnails = False\n",
    "L.save_caption=False\n",
    "L.download_videos=False"
   ]
  },
  {
   "cell_type": "code",
   "execution_count": 6,
   "metadata": {},
   "outputs": [
    {
     "name": "stdout",
     "output_type": "stream",
     "text": [
      "Loaded session from C:\\Users\\Admin\\AppData\\Local\\Instaloader\\session-sasashag.\n"
     ]
    }
   ],
   "source": [
    "# login()\n",
    "# sesssionHandling()\n",
    "try:\n",
    "    L.load_session_from_file(\"sasashag\")\n",
    "except FileNotFoundError:\n",
    "    # If no session file exists, you need to log in interactively\n",
    "    L.context.log(\"Session file does not exist. Logging in...\")\n",
    "    L.interactive_login(\"sasashag\")"
   ]
  },
  {
   "cell_type": "code",
   "execution_count": 7,
   "metadata": {},
   "outputs": [
    {
     "data": {
      "text/plain": [
       "['cristiano',\n",
       " 'kyliejenner',\n",
       " 'leomessi',\n",
       " 'kendalljenner',\n",
       " 'selenagomez',\n",
       " 'zendaya',\n",
       " 'kimkardashian',\n",
       " 'beyonce',\n",
       " 'arianagrande',\n",
       " 'billieeilish',\n",
       " 'neymarjr',\n",
       " 'lalalalisa_m',\n",
       " 'jennierubyjane',\n",
       " 'tomholland2013',\n",
       " 'virat.kohli',\n",
       " 'abcdefghi__lmnopqrstuvwxyz',\n",
       " 'khaby00',\n",
       " 'khloekardashian',\n",
       " 'sooyaaa__',\n",
       " 'justinbieber',\n",
       " 'thv',\n",
       " 'roses_are_rosie',\n",
       " 'badgalriri',\n",
       " 'nickiminaj',\n",
       " 'iamcardib',\n",
       " 'jin',\n",
       " 'agustd',\n",
       " 'therock',\n",
       " 'zayn',\n",
       " 'champagnepapi',\n",
       " 'rkive',\n",
       " 'kourtneykardash',\n",
       " 'uarmyhope',\n",
       " 'badbunnypr',\n",
       " 'katrinakaif',\n",
       " 'adele',\n",
       " 'harrystyles',\n",
       " 'kingjames',\n",
       " 'jlo',\n",
       " 'k.mbappe',\n",
       " 'karolg',\n",
       " 'gigihadid',\n",
       " 'anushkasharma',\n",
       " 'narendramodi',\n",
       " 'eunwo.o_c',\n",
       " 'dualipa',\n",
       " 'charlidamelio',\n",
       " 'ester_exposito',\n",
       " 'mileycyrus',\n",
       " 'georginagio',\n",
       " 'actorleeminho',\n",
       " 'gal_gadot',\n",
       " 'akshaykumar',\n",
       " 'shawnmendes',\n",
       " 'milliebobbybrown',\n",
       " 'chrishemsworth',\n",
       " 'dlwlrma',\n",
       " 'oliviarodrigo',\n",
       " 'mosalah',\n",
       " 'rashmika_mandanna',\n",
       " 'lelepons',\n",
       " 'ursulolita',\n",
       " 'priyankachopra',\n",
       " 'lilireinhart',\n",
       " 'handemiyy',\n",
       " 'ddlovato',\n",
       " 'blackpinkofficial',\n",
       " 'shraddhakapoor',\n",
       " 'meganfox',\n",
       " 'haileybieber',\n",
       " 'bn_sj2013',\n",
       " 'kimberly.loaiza',\n",
       " 'real__pcy',\n",
       " 'katyperry',\n",
       " 'davidbeckham',\n",
       " 'camila_cabello',\n",
       " 'aliaabhatt',\n",
       " 'dojacat',\n",
       " 'iamsrk',\n",
       " 'realmadrid',\n",
       " 'jongsuk0206',\n",
       " 'miakhalifa',\n",
       " 'nasa',\n",
       " 'bellahadid',\n",
       " 'oohsehun',\n",
       " 'niallhoran',\n",
       " 'hoooooyeony',\n",
       " 'addisonraee',\n",
       " 'beingsalmankhan',\n",
       " 'twicetagram',\n",
       " 'emmawatson',\n",
       " 'zacefron',\n",
       " 'nike',\n",
       " 'madelame',\n",
       " 'virginia',\n",
       " 'jenniferaniston',\n",
       " 'iamhalsey',\n",
       " 'paulodybala',\n",
       " 'dovecameron']"
      ]
     },
     "execution_count": 7,
     "metadata": {},
     "output_type": "execute_result"
    }
   ],
   "source": [
    "import pandas as pd\n",
    "data=pd.read_csv(\"instagram_global_top_1000.csv\")\n",
    "data=data[\"Account\"].tolist()\n",
    "data"
   ]
  },
  {
   "cell_type": "code",
   "execution_count": 8,
   "metadata": {},
   "outputs": [
    {
     "data": {
      "text/plain": [
       "datetime.date(2023, 8, 14)"
      ]
     },
     "execution_count": 8,
     "metadata": {},
     "output_type": "execute_result"
    }
   ],
   "source": [
    "from datetime import datetime\n",
    "current_date = datetime.now().date()\n",
    "current_date"
   ]
  },
  {
   "cell_type": "code",
   "execution_count": 9,
   "metadata": {},
   "outputs": [
    {
     "name": "stderr",
     "output_type": "stream",
     "text": [
      "JSON Query to api/v1/users/web_profile_info/?username=cristiano: 429 Too Many Requests [retrying; skip with ^C]\n",
      "Number of requests within last 10/11/20/22/30/60 minutes grouped by type:\n",
      " *                           iphone:    1    1    1    1    1    1\n",
      "Instagram responded with HTTP error \"429 - Too Many Requests\". Please\n",
      "do not run multiple instances of Instaloader in parallel or within\n",
      "short sequence. Also, do not use any Instagram App while Instaloader\n",
      "is running.\n",
      "The request will be retried in 30 minutes, at 00:04.\n"
     ]
    }
   ],
   "source": [
    "j=0\n",
    "for i in data:\n",
    "    \n",
    "    try:\n",
    "        j+=1\n",
    "        profile = instaloader.Profile.from_username(L.context,i)\n",
    "    except:\n",
    "        continue\n",
    "    print(\"\\n\",j,\")\",i)\n",
    "    count=0\n",
    "    for post in profile.get_posts():\n",
    "        post_date=post.date_utc.date()\n",
    "        if post_date==current_date:\n",
    "            try:\n",
    "                L.download_post(post,target=\"media1\")\n",
    "            except:\n",
    "                continue\n",
    "\n",
    "        if count<=3:\n",
    "            count+=1\n",
    "            continue\n",
    "        if post_date<current_date:\n",
    "            break"
   ]
  }
 ],
 "metadata": {
  "kernelspec": {
   "display_name": "Python 3",
   "language": "python",
   "name": "python3"
  },
  "language_info": {
   "codemirror_mode": {
    "name": "ipython",
    "version": 3
   },
   "file_extension": ".py",
   "mimetype": "text/x-python",
   "name": "python",
   "nbconvert_exporter": "python",
   "pygments_lexer": "ipython3",
   "version": "3.10.4"
  },
  "orig_nbformat": 4
 },
 "nbformat": 4,
 "nbformat_minor": 2
}
